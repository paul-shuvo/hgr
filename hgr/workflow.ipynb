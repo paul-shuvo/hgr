{
 "cells": [
  {
   "cell_type": "code",
   "execution_count": 8,
   "metadata": {},
   "outputs": [],
   "source": [
    "# imports\n",
    "\n",
    "import torch\n",
    "import torch.nn as nn\n",
    "import torch.nn.functional as F\n",
    "import torch.optim as optim\n",
    "import numpy as np"
   ]
  },
  {
   "cell_type": "code",
   "execution_count": 9,
   "metadata": {},
   "outputs": [
    {
     "data": {
      "text/plain": [
       "device(type='cuda')"
      ]
     },
     "execution_count": 9,
     "metadata": {},
     "output_type": "execute_result"
    }
   ],
   "source": [
    "# parameters\n",
    "SEED = 2023\n",
    "torch.manual_seed(SEED)\n",
    "device = torch.device('cuda' if torch.cuda.is_available() else 'cpu')  \n",
    "device"
   ]
  },
  {
   "cell_type": "code",
   "execution_count": 42,
   "metadata": {},
   "outputs": [],
   "source": [
    "# model = tf.keras.models.Sequential([\n",
    "#     tf.keras.layers.Input((21 * 2, )),\n",
    "#     tf.keras.layers.Dropout(0.2),\n",
    "#     tf.keras.layers.Dense(20, activation='relu'),\n",
    "#     tf.keras.layers.Dropout(0.4),\n",
    "#     tf.keras.layers.Dense(10, activation='relu'),\n",
    "#     tf.keras.layers.Dense(NUM_CLASSES, activation='softmax')\n",
    "# ])\n",
    "\n",
    "class TinyModel(torch.nn.Module):\n",
    "\n",
    "    def __init__(self):\n",
    "        super(TinyModel, self).__init__()\n",
    "\n",
    "        self.linear1 = torch.nn.Linear(63, 100)\n",
    "        self.linear2 = torch.nn.Linear(100, 50)\n",
    "        self.linear3 = torch.nn.Linear(50, 5)\n",
    "\n",
    "        self.Dropout = torch.nn.Dropout(p=0.2)\n",
    "        self.activation = torch.nn.ReLU()\n",
    "        self.softmax = torch.nn.Softmax(dim=1)\n",
    "\n",
    "    def forward(self, x):\n",
    "        x = self.linear1(x)\n",
    "        x = self.Dropout(x)\n",
    "        x = self.activation(x)\n",
    "        x = self.linear2(x)\n",
    "        x = self.Dropout(x)\n",
    "        x = self.activation(x)\n",
    "        x = self.linear3(x)\n",
    "        x = self.Dropout(x)\n",
    "        x = self.activation(x)\n",
    "        x = self.softmax(x)\n",
    "        return x\n",
    "\n",
    "net = TinyModel().to(device=device)"
   ]
  },
  {
   "cell_type": "code",
   "execution_count": 43,
   "metadata": {},
   "outputs": [],
   "source": [
    "\n",
    "criterion = nn.CrossEntropyLoss()\n",
    "optimizer = optim.Adam(net.parameters(), lr=0.001)"
   ]
  },
  {
   "cell_type": "markdown",
   "metadata": {},
   "source": [
    "### Generating Dataset"
   ]
  },
  {
   "cell_type": "code",
   "execution_count": 13,
   "metadata": {},
   "outputs": [],
   "source": [
    "import os\n",
    "from os import listdir\n",
    "from os.path import abspath, join, dirname\n",
    "# dataset_path = join(abspath(path=''), 'Dataset')\n",
    "# data = []\n",
    "# for i, file in enumerate(listdir(dataset_path)):\n",
    "#     d = np.load(join(dataset_path, file))\n",
    "#     d = d.reshape(d.shape[0], -1)[1:]\n",
    "#     d = d - d[0]\n",
    "#     d = np.concatenate((d, np.full((d.shape[0], 1), i)), axis=1)\n",
    "#     data.append(d)\n"
   ]
  },
  {
   "cell_type": "code",
   "execution_count": 14,
   "metadata": {},
   "outputs": [],
   "source": [
    "from numpy import genfromtxt\n",
    "data = genfromtxt(join(abspath(path=''), 'Dataset', 'keypoint.csv'), delimiter=',')"
   ]
  },
  {
   "cell_type": "code",
   "execution_count": 15,
   "metadata": {},
   "outputs": [],
   "source": [
    "# data = np.concatenate(data)\n",
    "data = torch.tensor(data, dtype=torch.float32)"
   ]
  },
  {
   "cell_type": "code",
   "execution_count": null,
   "metadata": {},
   "outputs": [
    {
     "data": {
      "text/plain": [
       "torch.Size([4787, 43])"
      ]
     },
     "execution_count": 77,
     "metadata": {},
     "output_type": "execute_result"
    }
   ],
   "source": [
    "data.shape"
   ]
  },
  {
   "cell_type": "code",
   "execution_count": 16,
   "metadata": {},
   "outputs": [],
   "source": [
    "dataset = data.to(device=device)"
   ]
  },
  {
   "cell_type": "code",
   "execution_count": 17,
   "metadata": {},
   "outputs": [
    {
     "data": {
      "text/plain": [
       "torch.Size([4787, 43])"
      ]
     },
     "execution_count": 17,
     "metadata": {},
     "output_type": "execute_result"
    }
   ],
   "source": [
    "dataset.shape"
   ]
  },
  {
   "cell_type": "code",
   "execution_count": 18,
   "metadata": {},
   "outputs": [],
   "source": [
    "from torch.utils.data import Dataset\n",
    "\n",
    "class Dataset(Dataset):\n",
    "    def __init__(self, dataset):\n",
    "        self.dataset = dataset\n",
    "\n",
    "    def __len__(self):\n",
    "        return len(self.dataset)\n",
    "\n",
    "    def __getitem__(self, index):\n",
    "        data = self.dataset[index]\n",
    "        return data[1:], data[0]\n",
    "        # return self.dataframe.iloc[index]"
   ]
  },
  {
   "cell_type": "code",
   "execution_count": 19,
   "metadata": {},
   "outputs": [],
   "source": [
    "dataset = Dataset(dataset)\n",
    "split_ratio = [0.7, 0.3]\n",
    "train_set, test_set = torch.utils.data.random_split(dataset, split_ratio)"
   ]
  },
  {
   "cell_type": "code",
   "execution_count": 20,
   "metadata": {},
   "outputs": [],
   "source": [
    "batch_size = 100\n",
    "\n",
    "trainloader = torch.utils.data.DataLoader(train_set, batch_size=batch_size,\n",
    "                                          shuffle=True, num_workers=0)\n",
    "\n",
    "testloader = torch.utils.data.DataLoader(test_set, batch_size=batch_size,\n",
    "                                         shuffle=False, num_workers=0)"
   ]
  },
  {
   "cell_type": "code",
   "execution_count": 44,
   "metadata": {},
   "outputs": [
    {
     "name": "stdout",
     "output_type": "stream",
     "text": [
      "Epoch 0: 0.022\n",
      "Epoch 1: 0.020\n",
      "Epoch 2: 0.019\n",
      "Epoch 3: 0.019\n",
      "Epoch 4: 0.018\n",
      "Epoch 5: 0.018\n",
      "Epoch 6: 0.017\n",
      "Epoch 7: 0.017\n",
      "Epoch 8: 0.017\n",
      "Epoch 9: 0.017\n",
      "Epoch 10: 0.017\n",
      "Epoch 11: 0.017\n",
      "Epoch 12: 0.017\n",
      "Epoch 13: 0.017\n",
      "Epoch 14: 0.017\n",
      "Epoch 15: 0.017\n",
      "Epoch 16: 0.017\n",
      "Epoch 17: 0.017\n",
      "Epoch 18: 0.017\n",
      "Epoch 19: 0.017\n",
      "Epoch 20: 0.017\n",
      "Epoch 21: 0.017\n",
      "Epoch 22: 0.017\n",
      "Epoch 23: 0.017\n",
      "Epoch 24: 0.017\n",
      "Epoch 25: 0.017\n",
      "Epoch 26: 0.017\n",
      "Epoch 27: 0.017\n",
      "Epoch 28: 0.017\n",
      "Epoch 29: 0.017\n",
      "Epoch 30: 0.017\n",
      "Epoch 31: 0.017\n",
      "Epoch 32: 0.017\n",
      "Epoch 33: 0.017\n",
      "Epoch 34: 0.017\n",
      "Epoch 35: 0.017\n",
      "Epoch 36: 0.017\n",
      "Epoch 37: 0.017\n",
      "Epoch 38: 0.017\n",
      "Epoch 39: 0.017\n",
      "Epoch 40: 0.017\n",
      "Epoch 41: 0.017\n",
      "Epoch 42: 0.017\n",
      "Epoch 43: 0.017\n",
      "Epoch 44: 0.017\n",
      "Epoch 45: 0.017\n",
      "Epoch 46: 0.017\n",
      "Epoch 47: 0.017\n",
      "Epoch 48: 0.017\n",
      "Epoch 49: 0.017\n"
     ]
    }
   ],
   "source": [
    "for epoch in range(50):  # loop over the dataset multiple times\n",
    "\n",
    "    running_loss = 0.0\n",
    "    for i, data in enumerate(trainloader):\n",
    "        optimizer.zero_grad()\n",
    "        inputs, labels = data\n",
    "        predictions = net(inputs)\n",
    "        _,pred = torch.max(predictions, dim=1)\n",
    "        # print(pred[:10], labels[:10])\n",
    "        loss = criterion(predictions, labels.long())\n",
    "        # loss.requires_grad = True\n",
    "        loss.backward()\n",
    "        optimizer.step()\n",
    "\n",
    "        # print statistics\n",
    "        running_loss += loss.item()\n",
    "    # if i % 5 == 4:    # print every 2000 mini-batches\n",
    "    print(f'Epoch {epoch}: {running_loss/len(train_set):.3f}')\n",
    "    running_loss = 0.0"
   ]
  },
  {
   "cell_type": "code",
   "execution_count": 45,
   "metadata": {},
   "outputs": [
    {
     "name": "stdout",
     "output_type": "stream",
     "text": [
      "Accuracy: 84 %\n"
     ]
    }
   ],
   "source": [
    "correct = 0\n",
    "total = 0\n",
    "# since we're not training, we don't need to calculate the gradients for our outputs\n",
    "with torch.no_grad():\n",
    "    for data in testloader:\n",
    "        images, labels = data\n",
    "        \n",
    "        # calculate outputs by running images through the network\n",
    "        outputs = net(images)\n",
    "        # the class with the highest energy is what we choose as prediction\n",
    "        _, predicted = torch.max(outputs.data, 1)\n",
    "        total += labels.size(0)\n",
    "        correct += (predicted == labels).sum().item()\n",
    "\n",
    "print(f'Accuracy: {100 * correct // total} %')"
   ]
  }
 ],
 "metadata": {
  "kernelspec": {
   "display_name": "env",
   "language": "python",
   "name": "python3"
  },
  "language_info": {
   "codemirror_mode": {
    "name": "ipython",
    "version": 3
   },
   "file_extension": ".py",
   "mimetype": "text/x-python",
   "name": "python",
   "nbconvert_exporter": "python",
   "pygments_lexer": "ipython3",
   "version": "3.10.13"
  }
 },
 "nbformat": 4,
 "nbformat_minor": 2
}
